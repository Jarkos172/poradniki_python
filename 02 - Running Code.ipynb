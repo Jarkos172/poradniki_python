{
 "cells": [
  {
   "cell_type": "markdown",
   "metadata": {},
   "source": [
    "# Running Code in the IPython Notebook"
   ]
  },
  {
   "cell_type": "markdown",
   "metadata": {},
   "source": [
    "First and foremost, the IPython Notebook is an interactive environment for writing and running Python code."
   ]
  },
  {
   "cell_type": "markdown",
   "metadata": {},
   "source": [
    "## Code cells allow you to enter and run Python code"
   ]
  },
  {
   "cell_type": "markdown",
   "metadata": {},
   "source": [
    "Run a code cell using `Shift-Enter` or pressing the \"Play\" button in the toolbar above:"
   ]
  },
  {
   "cell_type": "code",
   "execution_count": 1,
   "metadata": {},
   "outputs": [],
   "source": [
    "a = 10"
   ]
  },
  {
   "cell_type": "code",
   "execution_count": 2,
   "metadata": {},
   "outputs": [
    {
     "name": "stdout",
     "output_type": "stream",
     "text": [
      "10\n"
     ]
    }
   ],
   "source": [
    "print(a)"
   ]
  },
  {
   "cell_type": "markdown",
   "metadata": {},
   "source": [
    "## Managing the IPython Kernel"
   ]
  },
  {
   "cell_type": "markdown",
   "metadata": {},
   "source": [
    "Code is run in a separate process called the IPython Kernel.  The Kernel can be interrupted or restarted.  Try running the following cell and then hit the \"Stop\" button in the toolbar above."
   ]
  },
  {
   "cell_type": "code",
   "execution_count": 5,
   "metadata": {},
   "outputs": [],
   "source": [
    "import time\n",
    "time.sleep(10)"
   ]
  },
  {
   "cell_type": "markdown",
   "metadata": {},
   "source": [
    "## All of the goodness of IPython works"
   ]
  },
  {
   "cell_type": "markdown",
   "metadata": {},
   "source": [
    "Here are two system aliases:"
   ]
  },
  {
   "cell_type": "code",
   "execution_count": 6,
   "metadata": {},
   "outputs": [
    {
     "data": {
      "text/plain": [
       "'C:\\\\Users\\\\grzeg\\\\Stacja\\\\00_Jupyter'"
      ]
     },
     "execution_count": 6,
     "metadata": {},
     "output_type": "execute_result"
    }
   ],
   "source": [
    "pwd"
   ]
  },
  {
   "cell_type": "code",
   "execution_count": 7,
   "metadata": {},
   "outputs": [
    {
     "name": "stdout",
     "output_type": "stream",
     "text": [
      " Volume in drive C is Windows\n",
      " Volume Serial Number is 44EC-5869\n",
      "\n",
      " Directory of C:\\Users\\grzeg\\Stacja\\00_Jupyter\n",
      "\n",
      "26.08.2017  11:45    <DIR>          .\n",
      "26.08.2017  11:45    <DIR>          ..\n",
      "26.08.2017  11:45    <DIR>          .ipynb_checkpoints\n",
      "26.08.2017  11:42             6 941 01 - Markdown Cells.ipynb\n",
      "26.08.2017  11:45             6 539 02 - Running Code.ipynb\n",
      "25.09.2015  11:03            69 865 03 - Basic Output.ipynb\n",
      "10.03.2017  20:56            18 881 04 - Rich Display System.ipynb\n",
      "10.03.2017  21:01             8 877 05 - Typesetting Math Using MathJax.ipynb\n",
      "11.06.2017  11:18            22 431 06 - Maths and SymPy.ipynb\n",
      "10.03.2017  21:02             4 808 07 - Progress Bars.ipynb\n",
      "11.06.2017  11:41           144 442 08 - Making basic plots - Lines, bars, pies, and scatterplots.ipynb\n",
      "11.06.2017  11:48           181 579 09 - Subplots and small multiples.ipynb\n",
      "11.06.2017  11:21            43 772 10 - Widget Basics.ipynb\n",
      "10.03.2017  21:42           181 352 11 - Using Interact.ipynb\n",
      "10.03.2017  21:49            25 280 12 - Widget List.ipynb\n",
      "10.03.2017  21:43           232 420 13 - Widget Alignment.ipynb\n",
      "10.03.2017  22:05            23 032 14 - Widget Styling.ipynb\n",
      "10.03.2017  21:47           327 071 15 - Widget Events.ipynb\n",
      "10.03.2017  21:36            15 525 16 - Image Browser.ipynb\n",
      "11.06.2017  11:26            60 730 17 - Exploring Graphs.ipynb\n",
      "10.03.2017  21:36             9 866 18 - Factoring.ipynb\n",
      "10.03.2017  21:19            80 978 19 - Beat Frequencies.ipynb\n",
      "10.03.2017  21:39           145 308 20 - Lorenz Differential Equations.ipynb\n",
      "10.03.2017  21:43             7 606 21 - Variable Inspector.ipynb\n",
      "10.03.2017  20:24             1 228 22 - Mapa.ipynb\n",
      "09.03.2017  22:12             1 785 23 - Mayavi.ipynb\n",
      "10.03.2017  22:19            16 248 24 - ThreeJS Examples.ipynb\n",
      "11.06.2017  12:22           144 510 30 - pandas.ipynb\n",
      "23.08.2016  03:02           975 206 40 - regression_boston.ipynb\n",
      "13.05.2017  15:46           302 989 50 - titanic.ipynb\n",
      "16.10.2016  07:38            13 994 54 - classification.ipynb\n",
      "11.03.2017  00:26            11 151 55 - dimensionalityreduction.ipynb\n",
      "11.03.2017  01:08            47 655 60 - ch4 Affinity Analysis.ipynb\n",
      "11.06.2017  10:35    <DIR>          files\n",
      "11.06.2017  10:35    <DIR>          images\n",
      "              30 File(s)      3 132 069 bytes\n",
      "               5 Dir(s)  257 721 458 688 bytes free\n"
     ]
    }
   ],
   "source": [
    "ls"
   ]
  },
  {
   "cell_type": "markdown",
   "metadata": {},
   "source": [
    "Any command line program can be run using `!` with string interpolation from Python variables:"
   ]
  },
  {
   "cell_type": "code",
   "execution_count": 8,
   "metadata": {},
   "outputs": [
    {
     "name": "stdout",
     "output_type": "stream",
     "text": [
      "The IPython notebook is great!\n"
     ]
    }
   ],
   "source": [
    "message = 'The IPython notebook is great!'\n",
    "# note: the echo command does not run on Windows, it's a unix command.\n",
    "!echo $message"
   ]
  },
  {
   "cell_type": "markdown",
   "metadata": {},
   "source": [
    "Tab completion works:"
   ]
  },
  {
   "cell_type": "code",
   "execution_count": null,
   "metadata": {},
   "outputs": [],
   "source": [
    "import numpy\n",
    "numpy.random."
   ]
  },
  {
   "cell_type": "markdown",
   "metadata": {},
   "source": [
    "Tab completion after `(` brings up a tooltip with the docstring:"
   ]
  },
  {
   "cell_type": "code",
   "execution_count": null,
   "metadata": {},
   "outputs": [],
   "source": [
    "numpy.random.rand("
   ]
  },
  {
   "cell_type": "markdown",
   "metadata": {},
   "source": [
    "Adding `?` opens the docstring in the pager below:"
   ]
  },
  {
   "cell_type": "code",
   "execution_count": 9,
   "metadata": {},
   "outputs": [],
   "source": [
    "magic?"
   ]
  },
  {
   "cell_type": "markdown",
   "metadata": {},
   "source": [
    "Exceptions are formatted nicely:"
   ]
  },
  {
   "cell_type": "code",
   "execution_count": 10,
   "metadata": {},
   "outputs": [
    {
     "ename": "ZeroDivisionError",
     "evalue": "division by zero",
     "output_type": "error",
     "traceback": [
      "\u001b[1;31m---------------------------------------------------------------------------\u001b[0m",
      "\u001b[1;31mZeroDivisionError\u001b[0m                         Traceback (most recent call last)",
      "\u001b[1;32m<ipython-input-10-dc39888fd1d2>\u001b[0m in \u001b[0;36m<module>\u001b[1;34m()\u001b[0m\n\u001b[0;32m      1\u001b[0m \u001b[0mx\u001b[0m \u001b[1;33m=\u001b[0m \u001b[1;36m1\u001b[0m\u001b[1;33m\u001b[0m\u001b[0m\n\u001b[0;32m      2\u001b[0m \u001b[0my\u001b[0m \u001b[1;33m=\u001b[0m \u001b[1;36m4\u001b[0m\u001b[1;33m\u001b[0m\u001b[0m\n\u001b[1;32m----> 3\u001b[1;33m \u001b[0mz\u001b[0m \u001b[1;33m=\u001b[0m \u001b[0my\u001b[0m\u001b[1;33m/\u001b[0m\u001b[1;33m(\u001b[0m\u001b[1;36m1\u001b[0m\u001b[1;33m-\u001b[0m\u001b[0mx\u001b[0m\u001b[1;33m)\u001b[0m\u001b[1;33m\u001b[0m\u001b[0m\n\u001b[0m",
      "\u001b[1;31mZeroDivisionError\u001b[0m: division by zero"
     ]
    }
   ],
   "source": [
    "x = 1\n",
    "y = 4\n",
    "z = y/(1-x)"
   ]
  },
  {
   "cell_type": "markdown",
   "metadata": {},
   "source": [
    "## Working with external code"
   ]
  },
  {
   "cell_type": "markdown",
   "metadata": {},
   "source": [
    "There are a number of ways of getting external code into code cells."
   ]
  },
  {
   "cell_type": "markdown",
   "metadata": {},
   "source": [
    "Pasting code with `>>>` prompts works as expected:"
   ]
  },
  {
   "cell_type": "code",
   "execution_count": null,
   "metadata": {},
   "outputs": [],
   "source": [
    ">>> the_world_is_flat = 1\n",
    ">>> if the_world_is_flat:\n",
    "...     print(\"Be careful not to fall off!\")"
   ]
  },
  {
   "cell_type": "markdown",
   "metadata": {},
   "source": [
    "The `%load` magic lets you load code from URLs or local files:"
   ]
  },
  {
   "cell_type": "code",
   "execution_count": 11,
   "metadata": {},
   "outputs": [],
   "source": [
    "%load?"
   ]
  },
  {
   "cell_type": "code",
   "execution_count": 12,
   "metadata": {},
   "outputs": [],
   "source": [
    "%matplotlib inline"
   ]
  },
  {
   "cell_type": "code",
   "execution_count": 14,
   "metadata": {},
   "outputs": [
    {
     "data": {
      "image/png": "[encoded data removed]",
      "text/plain": [
       "<matplotlib.figure.Figure at 0x208b3770dd8>"
      ]
     },
     "metadata": {},
     "output_type": "display_data"
    }
   ],
   "source": [
    "# %load http://matplotlib.org/examples/animation/random_data.py\n",
    "\"\"\"\n",
    "===========\n",
    "Random data\n",
    "===========\n",
    "\n",
    "An animation of random data.\n",
    "\n",
    "\"\"\"\n",
    "\n",
    "import numpy as np\n",
    "import matplotlib.pyplot as plt\n",
    "import matplotlib.animation as animation\n",
    "\n",
    "fig, ax = plt.subplots()\n",
    "line, = ax.plot(np.random.rand(10))\n",
    "ax.set_ylim(0, 1)\n",
    "\n",
    "\n",
    "def update(data):\n",
    "    line.set_ydata(data)\n",
    "    return line,\n",
    "\n",
    "\n",
    "def data_gen():\n",
    "    while True:\n",
    "        yield np.random.rand(10)\n",
    "\n",
    "ani = animation.FuncAnimation(fig, update, data_gen, interval=100)\n",
    "plt.show()\n"
   ]
  },
  {
   "cell_type": "code",
   "execution_count": 15,
   "metadata": {},
   "outputs": [
    {
     "data": {
      "image/png": "[encoded data removed]",
      "text/plain": [
       "<matplotlib.figure.Figure at 0x208b37c34a8>"
      ]
     },
     "metadata": {},
     "output_type": "display_data"
    }
   ],
   "source": [
    "#!/usr/bin/env python\n",
    "\n",
    "# implement the example graphs/integral from pyx\n",
    "from pylab import *\n",
    "from matplotlib.patches import Polygon\n",
    "\n",
    "def func(x):\n",
    "    return (x-3)*(x-5)*(x-7)+85\n",
    "\n",
    "ax = subplot(111)\n",
    "\n",
    "a, b = 2, 9 # integral area\n",
    "x = arange(0, 10, 0.01)\n",
    "y = func(x)\n",
    "plot(x, y, linewidth=1)\n",
    "\n",
    "# make the shaded region\n",
    "ix = arange(a, b, 0.01)\n",
    "iy = func(ix)\n",
    "verts = [(a,0)] + list(zip(ix,iy)) + [(b,0)]\n",
    "poly = Polygon(verts, facecolor='0.8', edgecolor='k')\n",
    "ax.add_patch(poly)\n",
    "\n",
    "text(0.5 * (a + b), 30,\n",
    "     r\"$\\int_a^b f(x)\\mathrm{d}x$\", horizontalalignment='center',\n",
    "     fontsize=20)\n",
    "\n",
    "axis([0,10, 0, 180])\n",
    "figtext(0.9, 0.05, 'poziom')\n",
    "figtext(0.1, 0.9, 'y')\n",
    "ax.set_xticks((a,b))\n",
    "ax.set_xticklabels(('a','b'))\n",
    "ax.set_yticks([])\n",
    "show()\n"
   ]
  },
  {
   "cell_type": "code",
   "execution_count": null,
   "metadata": {
    "collapsed": true
   },
   "outputs": [],
   "source": []
  }
 ],
 "metadata": {
  "kernelspec": {
   "display_name": "Python 3",
   "language": "python",
   "name": "python3"
  },
  "language_info": {
   "codemirror_mode": {
    "name": "ipython",
    "version": 3
   },
   "file_extension": ".py",
   "mimetype": "text/x-python",
   "name": "python",
   "nbconvert_exporter": "python",
   "pygments_lexer": "ipython3",
   "version": "3.7.4"
  }
 },
 "nbformat": 4,
 "nbformat_minor": 1
}
